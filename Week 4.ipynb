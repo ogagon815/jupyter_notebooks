{
 "cells": [
  {
   "cell_type": "markdown",
   "metadata": {},
   "source": [
    "# Week 4 - Objects, Modules, Pandas and Regular Expressions\n",
    "This week we will review what really makes Python so useful, packages written by others that you can use to do things better, faster, easier. In turn, we will start to discuss how a project can be worked on collaboratively if the code is organized in a way that allows for easy distribution of work. This is done by making your own objects and modules to do repeatable tasks.\n",
    "\n",
    "This week we will work on regular expressions and Pandas. Regular Expressions help to utilize wildcards for handling text to help solve multiple issues at once in cleaning data, while Pandas is the be-all end-all data cleansing and management tool in Python that any analyst has to know to get the most our of Python.\n",
    "\n",
    "I should also point out that much of the regular expressions package is built into Pandas as well. This both illustrates the value of the core package (re - regular expressions), and helps illustrate how reusable code can be built into new packages to help make it easier to use.\n",
    "\n",
    "There is too much to go over everything in these amazing packages, so articles on the basics and the core documentation is linked below:\n",
    "\n",
    "### Pandas\n",
    "Pandas is not part of the standard library, but it is part of Anaconda, which is the version of Python we have installed.\n",
    "\n",
    "Pandas core documentation and home site: https://pandas.pydata.org/\n",
    "\n",
    "Introduction article to Pandas: https://towardsdatascience.com/a-quick-introduction-to-the-pandas-python-library-f1b678f34673\n",
    "\n",
    "Introduction video on Pandas: https://www.youtube.com/watch?v=dcqPhpY7tWk\n",
    "\n",
    "### Regular Expressions (re)\n",
    "re is part of the standard library in Python. \n",
    "\n",
    "re core documentation - https://docs.python.org/3/howto/regex.html   https://docs.python.org/3/library/re.html\n",
    "\n",
    "regular expressions introduction - https://realpython.com/regex-python/\n"
   ]
  },
  {
   "cell_type": "markdown",
   "metadata": {},
   "source": [
    "# Exercises\n",
    "\n",
    "## Exercise 1 - Selecting Cells in a Data Frame\n",
    "Use the below generated data frame to print the item number and corresponding unit price for each. Notice the first line, we initialize pandas as the keyword pd. This is to bring in the pandas code for us to use and rename it to a shorter name, reducing keystrokes."
   ]
  },
  {
   "cell_type": "code",
   "execution_count": 3,
   "metadata": {},
   "outputs": [
    {
     "data": {
      "text/html": [
       "<div>\n",
       "<style scoped>\n",
       "    .dataframe tbody tr th:only-of-type {\n",
       "        vertical-align: middle;\n",
       "    }\n",
       "\n",
       "    .dataframe tbody tr th {\n",
       "        vertical-align: top;\n",
       "    }\n",
       "\n",
       "    .dataframe thead th {\n",
       "        text-align: right;\n",
       "    }\n",
       "</style>\n",
       "<table border=\"1\" class=\"dataframe\">\n",
       "  <thead>\n",
       "    <tr style=\"text-align: right;\">\n",
       "      <th></th>\n",
       "      <th>Item_Number</th>\n",
       "      <th>Unit_Price</th>\n",
       "    </tr>\n",
       "  </thead>\n",
       "  <tbody>\n",
       "    <tr>\n",
       "      <th>0</th>\n",
       "      <td>SKU0012</td>\n",
       "      <td>$12.95</td>\n",
       "    </tr>\n",
       "    <tr>\n",
       "      <th>1</th>\n",
       "      <td>SKU0096</td>\n",
       "      <td>$199.95</td>\n",
       "    </tr>\n",
       "    <tr>\n",
       "      <th>2</th>\n",
       "      <td>SKU1019</td>\n",
       "      <td>$4.95</td>\n",
       "    </tr>\n",
       "    <tr>\n",
       "      <th>3</th>\n",
       "      <td>SKU1012</td>\n",
       "      <td>$1,425.00</td>\n",
       "    </tr>\n",
       "  </tbody>\n",
       "</table>\n",
       "</div>"
      ],
      "text/plain": [
       "  Item_Number Unit_Price\n",
       "0     SKU0012     $12.95\n",
       "1     SKU0096    $199.95\n",
       "2     SKU1019      $4.95\n",
       "3     SKU1012  $1,425.00"
      ]
     },
     "execution_count": 3,
     "metadata": {},
     "output_type": "execute_result"
    }
   ],
   "source": [
    "import pandas as pd\n",
    "\n",
    "raw_data = [['SKU0012', '$12.95'], ['SKU0096', '$199.95'], ['SKU1019', '$4.95'], ['SKU1012', '$1,425.00']]\n",
    "\n",
    "item_df = pd.DataFrame(raw_data, columns = ['Item_Number', 'Unit_Price'])\n",
    "item_df"
   ]
  },
  {
   "cell_type": "code",
   "execution_count": 4,
   "metadata": {},
   "outputs": [
    {
     "name": "stdout",
     "output_type": "stream",
     "text": [
      "SKU0012 unit price is $12.95\n"
     ]
    }
   ],
   "source": [
    "#example:\n",
    "print(item_df['Item_Number'][0], 'unit price is', item_df['Unit_Price'][0])"
   ]
  },
  {
   "cell_type": "code",
   "execution_count": 6,
   "metadata": {},
   "outputs": [
    {
     "name": "stdout",
     "output_type": "stream",
     "text": [
      "SKU0012 unit price is $12.95\n"
     ]
    }
   ],
   "source": [
    "print(item_df['Item_Number'][0],  'unit price is', item_df ['Unit_Price'][0])"
   ]
  },
  {
   "cell_type": "markdown",
   "metadata": {},
   "source": [
    "## Exercise 2 - Cleaning text and joining two Data Frames\n",
    "Below is a second data frame that represents an order of these items. There are a few issues you need to deal with in this exercise:\n",
    "* format the Item Number in the order data frame to match the item data frame\n",
    "* join the data together to match the quantity and unit price\n",
    "* transform the text field Unit_Price to a number to calculate the total amount\n",
    "* create a new column (series) calculating the total amount\n",
    "* Print the grand total of the order by summing the new calculated totals\n"
   ]
  },
  {
   "cell_type": "code",
   "execution_count": 6,
   "metadata": {},
   "outputs": [
    {
     "ename": "NameError",
     "evalue": "name 'pd' is not defined",
     "output_type": "error",
     "traceback": [
      "\u001b[0;31m---------------------------------------------------------------------------\u001b[0m",
      "\u001b[0;31mNameError\u001b[0m                                 Traceback (most recent call last)",
      "\u001b[0;32m<ipython-input-6-2f071f0c0550>\u001b[0m in \u001b[0;36m<module>\u001b[0;34m\u001b[0m\n\u001b[1;32m      1\u001b[0m \u001b[0morder_data\u001b[0m \u001b[0;34m=\u001b[0m \u001b[0;34m[\u001b[0m\u001b[0;34m[\u001b[0m\u001b[0;36m12\u001b[0m\u001b[0;34m,\u001b[0m \u001b[0;36m5\u001b[0m\u001b[0;34m]\u001b[0m\u001b[0;34m,\u001b[0m \u001b[0;34m[\u001b[0m\u001b[0;36m96\u001b[0m\u001b[0;34m,\u001b[0m \u001b[0;36m9\u001b[0m\u001b[0;34m]\u001b[0m\u001b[0;34m,\u001b[0m \u001b[0;34m[\u001b[0m\u001b[0;36m1019\u001b[0m\u001b[0;34m,\u001b[0m \u001b[0;36m200\u001b[0m\u001b[0;34m]\u001b[0m\u001b[0;34m]\u001b[0m\u001b[0;34m\u001b[0m\u001b[0;34m\u001b[0m\u001b[0m\n\u001b[1;32m      2\u001b[0m \u001b[0;34m\u001b[0m\u001b[0m\n\u001b[0;32m----> 3\u001b[0;31m \u001b[0mitem_df\u001b[0m \u001b[0;34m=\u001b[0m \u001b[0mpd\u001b[0m\u001b[0;34m.\u001b[0m\u001b[0mDataFrame\u001b[0m\u001b[0;34m(\u001b[0m\u001b[0morder_data\u001b[0m\u001b[0;34m,\u001b[0m \u001b[0mcolumns\u001b[0m \u001b[0;34m=\u001b[0m \u001b[0;34m[\u001b[0m\u001b[0;34m'Item_Number'\u001b[0m\u001b[0;34m,\u001b[0m \u001b[0;34m'Quantity'\u001b[0m\u001b[0;34m]\u001b[0m\u001b[0;34m)\u001b[0m\u001b[0;34m\u001b[0m\u001b[0;34m\u001b[0m\u001b[0m\n\u001b[0m\u001b[1;32m      4\u001b[0m \u001b[0mitem_df\u001b[0m\u001b[0;34m\u001b[0m\u001b[0;34m\u001b[0m\u001b[0m\n",
      "\u001b[0;31mNameError\u001b[0m: name 'pd' is not defined"
     ]
    }
   ],
   "source": [
    "order_data = [[12, 5], [96, 9], [1019, 200]]\n",
    "\n",
    "item_df = pd.DataFrame(order_data, columns = ['Item_Number', 'Quantity'])\n",
    "item_df"
   ]
  },
  {
   "cell_type": "code",
   "execution_count": 1,
   "metadata": {
    "scrolled": true
   },
   "outputs": [
    {
     "ename": "NameError",
     "evalue": "name 'order_data' is not defined",
     "output_type": "error",
     "traceback": [
      "\u001b[0;31m---------------------------------------------------------------------------\u001b[0m",
      "\u001b[0;31mNameError\u001b[0m                                 Traceback (most recent call last)",
      "\u001b[0;32m<ipython-input-1-52fd41c384c4>\u001b[0m in \u001b[0;36m<module>\u001b[0;34m\u001b[0m\n\u001b[0;32m----> 1\u001b[0;31m \u001b[0morder_data\u001b[0m \u001b[0;34m[\u001b[0m\u001b[0;34m'Item_Number'\u001b[0m\u001b[0;34m]\u001b[0m \u001b[0;34m=\u001b[0m \u001b[0;34m'SKU'\u001b[0m \u001b[0;34m+\u001b[0m \u001b[0morder_data\u001b[0m \u001b[0;34m[\u001b[0m\u001b[0;34m'Item_Number'\u001b[0m\u001b[0;34m]\u001b[0m \u001b[0;34m.\u001b[0m \u001b[0mastype\u001b[0m\u001b[0;34m(\u001b[0m\u001b[0mstr\u001b[0m\u001b[0;34m)\u001b[0m\u001b[0;34m.\u001b[0m\u001b[0mstr\u001b[0m\u001b[0;34m.\u001b[0m\u001b[0mzfill\u001b[0m\u001b[0;34m(\u001b[0m\u001b[0;36m4\u001b[0m\u001b[0;34m)\u001b[0m\u001b[0;34m\u001b[0m\u001b[0;34m\u001b[0m\u001b[0m\n\u001b[0m\u001b[1;32m      2\u001b[0m \u001b[0morder_data\u001b[0m\u001b[0;34m\u001b[0m\u001b[0;34m\u001b[0m\u001b[0m\n",
      "\u001b[0;31mNameError\u001b[0m: name 'order_data' is not defined"
     ]
    }
   ],
   "source": [
    "order_data ['Item_Number'] = 'SKU' + order_data ['Item_Number'] . astype(str).str.zfill(4)\n",
    "order_data"
   ]
  },
  {
   "cell_type": "code",
   "execution_count": 3,
   "metadata": {},
   "outputs": [
    {
     "ename": "AttributeError",
     "evalue": "'list' object has no attribute 'set_index'",
     "output_type": "error",
     "traceback": [
      "\u001b[0;31m---------------------------------------------------------------------------\u001b[0m",
      "\u001b[0;31mAttributeError\u001b[0m                            Traceback (most recent call last)",
      "\u001b[0;32m<ipython-input-3-4dfc5ad8efdb>\u001b[0m in \u001b[0;36m<module>\u001b[0;34m\u001b[0m\n\u001b[0;32m----> 1\u001b[0;31m \u001b[0morder_data\u001b[0m \u001b[0;34m=\u001b[0m\u001b[0morder_data\u001b[0m\u001b[0;34m.\u001b[0m\u001b[0mset_index\u001b[0m\u001b[0;34m(\u001b[0m\u001b[0;34m'Item_Number'\u001b[0m\u001b[0;34m)\u001b[0m\u001b[0;34m\u001b[0m\u001b[0;34m\u001b[0m\u001b[0m\n\u001b[0m",
      "\u001b[0;31mAttributeError\u001b[0m: 'list' object has no attribute 'set_index'"
     ]
    }
   ],
   "source": [
    "order_data = order_data.set_index('Item_Number')"
   ]
  },
  {
   "cell_type": "code",
   "execution_count": 7,
   "metadata": {},
   "outputs": [
    {
     "data": {
      "text/plain": [
       "[[12, 5], [96, 9], [1019, 200]]"
      ]
     },
     "execution_count": 7,
     "metadata": {},
     "output_type": "execute_result"
    }
   ],
   "source": [
    "order_data"
   ]
  },
  {
   "cell_type": "code",
   "execution_count": null,
   "metadata": {},
   "outputs": [],
   "source": []
  }
 ],
 "metadata": {
  "kernelspec": {
   "display_name": "Python 3",
   "language": "python",
   "name": "python3"
  },
  "language_info": {
   "codemirror_mode": {
    "name": "ipython",
    "version": 3
   },
   "file_extension": ".py",
   "mimetype": "text/x-python",
   "name": "python",
   "nbconvert_exporter": "python",
   "pygments_lexer": "ipython3",
   "version": "3.8.3"
  }
 },
 "nbformat": 4,
 "nbformat_minor": 4
}
